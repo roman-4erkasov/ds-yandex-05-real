{
 "cells": [
  {
   "cell_type": "markdown",
   "metadata": {},
   "source": [
    "# Классификация текстов: спам-фильтр для SMS"
   ]
  },
  {
   "cell_type": "markdown",
   "metadata": {},
   "source": [
    "В этом задании вам предстоит взять открытый датасет с SMS-сообщениями, размеченными на спам (\"spam\") и не спам (\"ham\"), построить на нем классификатор текстов на эти два класса, оценить его качество с помощью кросс-валидации, протестировать его работу на отдельных примерах, и посмотреть, что будет происходить с качеством, если менять параметры вашей модели."
   ]
  },
  {
   "cell_type": "code",
   "execution_count": 20,
   "metadata": {},
   "outputs": [],
   "source": [
    "import pandas as pd\n",
    "from sklearn.feature_extraction.text import CountVectorizer, TfidfVectorizer\n",
    "from sklearn.model_selection import cross_val_score\n",
    "from sklearn.naive_bayes import MultinomialNB\n",
    "from sklearn.linear_model import LogisticRegression"
   ]
  },
  {
   "cell_type": "code",
   "execution_count": 9,
   "metadata": {},
   "outputs": [],
   "source": [
    "df = pd.read_csv(\n",
    "    \"./smsspamcollection/SMSSpamCollection.txt\", \n",
    "    sep=\"\\t\", \n",
    "    header=None,\n",
    "    names=[\"class\", \"text\"]\n",
    ")\n",
    "\n",
    "df[\"target\"] = (df[\"class\"]== \"spam\").astype(int)\n",
    "\n"
   ]
  },
  {
   "cell_type": "code",
   "execution_count": 28,
   "metadata": {},
   "outputs": [
    {
     "name": "stdout",
     "output_type": "stream",
     "text": [
      "0.9326402983610631\n"
     ]
    }
   ],
   "source": [
    "count_vec = CountVectorizer()\n",
    "\n",
    "X = count_vec.fit_transform(df.text)\n",
    "\n",
    "\n",
    "print(cross_val_score(\n",
    "    LogisticRegression(random_state=2), \n",
    "    cv=10, \n",
    "    X=X, \n",
    "    y=df.target,\n",
    "    scoring='f1'\n",
    ").mean())"
   ]
  },
  {
   "cell_type": "code",
   "execution_count": 29,
   "metadata": {},
   "outputs": [
    {
     "name": "stdout",
     "output_type": "stream",
     "text": [
      "0.8224220664187133\n"
     ]
    }
   ],
   "source": [
    "count_vec = CountVectorizer(ngram_range=(2,2))\n",
    "\n",
    "X = count_vec.fit_transform(df.text)\n",
    "\n",
    "print(cross_val_score(\n",
    "    LogisticRegression(random_state=2), \n",
    "    cv=10, \n",
    "    X=X, \n",
    "    y=df.target,\n",
    "    scoring='f1'\n",
    ").mean())"
   ]
  },
  {
   "cell_type": "code",
   "execution_count": 30,
   "metadata": {},
   "outputs": [
    {
     "name": "stdout",
     "output_type": "stream",
     "text": [
      "0.7250161555467377\n"
     ]
    }
   ],
   "source": [
    "count_vec = CountVectorizer(ngram_range=(3,3))\n",
    "\n",
    "X = count_vec.fit_transform(df.text)\n",
    "\n",
    "print(cross_val_score(\n",
    "    LogisticRegression(random_state=2), \n",
    "    cv=10, \n",
    "    X=X, \n",
    "    y=df.target,\n",
    "    scoring='f1'\n",
    ").mean())"
   ]
  },
  {
   "cell_type": "code",
   "execution_count": 31,
   "metadata": {},
   "outputs": [
    {
     "name": "stdout",
     "output_type": "stream",
     "text": [
      "0.9251382558648837\n"
     ]
    }
   ],
   "source": [
    "count_vec = CountVectorizer(ngram_range=(1,3))\n",
    "\n",
    "X = count_vec.fit_transform(df.text)\n",
    "\n",
    "print(cross_val_score(\n",
    "    LogisticRegression(random_state=2), \n",
    "    cv=10, \n",
    "    X=X, \n",
    "    y=df.target,\n",
    "    scoring='f1'\n",
    ").mean())"
   ]
  },
  {
   "cell_type": "code",
   "execution_count": 34,
   "metadata": {},
   "outputs": [
    {
     "name": "stdout",
     "output_type": "stream",
     "text": [
      "0.6455015177985443\n",
      "0.37871948524573595\n",
      "0.8884859656061002\n"
     ]
    }
   ],
   "source": [
    "count_vec = CountVectorizer(ngram_range=(2,2))\n",
    "X = count_vec.fit_transform(df.text)\n",
    "print(cross_val_score(\n",
    "    MultinomialNB(), \n",
    "    cv=10, \n",
    "    X=X, \n",
    "    y=df.target,\n",
    "    scoring='f1'\n",
    ").mean())\n",
    "\n",
    "count_vec = CountVectorizer(ngram_range=(3,3))\n",
    "X = count_vec.fit_transform(df.text)\n",
    "print(cross_val_score(\n",
    "    MultinomialNB(), \n",
    "    cv=10, \n",
    "    X=X, \n",
    "    y=df.target,\n",
    "    scoring='f1'\n",
    ").mean())\n",
    "\n",
    "count_vec = CountVectorizer(ngram_range=(1,3))\n",
    "X = count_vec.fit_transform(df.text)\n",
    "print(cross_val_score(\n",
    "    MultinomialNB(), \n",
    "    cv=10, \n",
    "    X=X, \n",
    "    y=df.target,\n",
    "    scoring='f1'\n",
    ").mean())"
   ]
  },
  {
   "cell_type": "code",
   "execution_count": 35,
   "metadata": {},
   "outputs": [
    {
     "name": "stdout",
     "output_type": "stream",
     "text": [
      "0.3445904447864354\n"
     ]
    }
   ],
   "source": [
    "tfidf_vec = TfidfVectorizer(ngram_range=(2,2))\n",
    "X = tfidf_vec.fit_transform(df.text)\n",
    "\n",
    "print(cross_val_score(\n",
    "    LogisticRegression(random_state=2), \n",
    "    cv=10, \n",
    "    X=X, \n",
    "    y=df.target,\n",
    "    scoring='f1'\n",
    ").mean())"
   ]
  },
  {
   "cell_type": "code",
   "execution_count": null,
   "metadata": {},
   "outputs": [],
   "source": []
  }
 ],
 "metadata": {
  "kernelspec": {
   "display_name": "Python 3",
   "language": "python",
   "name": "python3"
  },
  "language_info": {
   "codemirror_mode": {
    "name": "ipython",
    "version": 3
   },
   "file_extension": ".py",
   "mimetype": "text/x-python",
   "name": "python",
   "nbconvert_exporter": "python",
   "pygments_lexer": "ipython3",
   "version": "3.6.5"
  }
 },
 "nbformat": 4,
 "nbformat_minor": 2
}
