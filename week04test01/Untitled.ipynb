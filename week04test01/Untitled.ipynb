{
 "cells": [
  {
   "cell_type": "markdown",
   "metadata": {},
   "source": [
    "<center><b>Описание задачи</b><center>\n",
    "\n",
    "Небольшой интернет-магазин попросил вас добавить ранжирование товаров в блок \"Смотрели ранее\" - в нем теперь надо показывать не последние просмотренные пользователем товары, а те товары из просмотренных, которые он наиболее вероятно купит. Качество вашего решения будет оцениваться по количеству покупок в сравнении с прошлым решением в ходе А/В теста, т.к. по доходу от продаж статзначимость будет достигаться дольше из-за разброса цен. Таким образом, ничего заранее не зная про корреляцию оффлайновых и онлайновых метрик качества, в начале проекта вы можете лишь постараться оптимизировать recall@k и precision@k.\n",
    "\n",
    "Это задание посвящено построению простых бейзлайнов для этой задачи: ранжирование просмотренных товаров по частоте просмотров и по частоте покупок. Эти бейзлайны, с одной стороны, могут помочь вам грубо оценить возможный эффект от ранжирования товаров в блоке - например, чтобы вписать какие-то числа в коммерческое предложение заказчику, а с другой стороны, могут оказаться самым хорошим вариантом, если данных очень мало (недостаточно для обучения даже простых моделей).\n",
    "<br/>\n",
    "<br/>\n",
    "<center><b>Входные данные</b><center>\n",
    "\n",
    "Вам дается две выборки с пользовательскими сессиями - id-шниками просмотренных и id-шниками купленных товаров. Одна выборка будет использоваться для обучения (оценки популярностей товаров), а другая - для теста.\n",
    "\n",
    "В файлах записаны сессии по одной в каждой строке. Формат сессии: id просмотренных товаров через , затем идёт ; после чего следуют id купленных товаров (если такие имеются), разделённые запятой. Например, 1,2,3,4; или 1,2,3,4;5,6.\n",
    "\n",
    "Гарантируется, что среди id купленных товаров все различные.\n",
    "\n",
    "Важно:\n",
    "\n",
    "Сессии, в которых пользователь ничего не купил, исключаем из оценки качества.\n",
    "Если товар не встречался в обучающей выборке, его популярность равна 0.\n",
    "Рекомендуем разные товары. И их число должно быть не больше, чем количество различных просмотренных пользователем товаров.\n",
    "Рекомендаций всегда не больше, чем минимум из двух чисел: количество просмотренных пользователем товаров и k в recall@k / precision@k.\n",
    "Задание\n",
    "\n",
    "1.На обучении постройте частоты появления id в просмотренных и в купленных (id может несколько раз появляться в просмотренных, все появления надо учитывать)\n",
    "\n",
    "2.Реализуйте два алгоритма рекомендаций:\n",
    " - сортировка просмотренных id по популярности (частота появления в просмотренных),\n",
    " - сортировка просмотренных id по покупаемости (частота появления в покупках).\n",
    "\n",
    "3.Для данных алгоритмов выпишите через пробел AverageRecall@1, AveragePrecision@1, AverageRecall@5, AveragePrecision@5 на обучающей и тестовых выборках, округляя до 2 знака после запятой. Это будут ваши ответы в этом задании. Посмотрите, как они соотносятся друг с другом. Где качество получилось выше? Значимо ли это различие? Обратите внимание на различие качества на обучающей и тестовой выборке в случае рекомендаций по частотам покупки.\n",
    "\n",
    "Если частота одинаковая, то сортировать нужно по возрастанию момента просмотра (чем раньше появился в просмотренных, тем больше приоритет)\n",
    "<br/>\n",
    "<br/>  \n",
    "<center><b>Дополнительные вопросы<b></center>\n",
    "\n",
    "Обратите внимание, что при сортировке по покупаемости возникает много товаров с одинаковым рангом - это означает, что значение метрик будет зависеть от того, как мы будем сортировать товары с одинаковым рангом. Попробуйте убедиться, что при изменении сортировки таких товаров recall@k меняется. Подумайте, как оценить минимальное и максимальное значение recall@k в зависимости от правила сортировки.\n",
    "Мы обучаемся и тестируемся на полных сессиях (в которых есть все просмотренные за сессию товары). Подумайте, почему полученная нами оценка качества рекомендаций в этом случае несколько завышена.\n"
   ]
  },
  {
   "cell_type": "code",
   "execution_count": 19,
   "metadata": {},
   "outputs": [],
   "source": [
    "import re\n",
    "from collections import Counter, OrderedDict, defaultdict\n",
    "import pandas as pd\n",
    "\n",
    "import numpy as np"
   ]
  },
  {
   "cell_type": "code",
   "execution_count": 20,
   "metadata": {},
   "outputs": [],
   "source": [
    "class OrderedCounter(Counter, OrderedDict):\n",
    "    def __repr__(self):\n",
    "        return '%s(%r)' % (self.__class__.__name__, OrderedDict(self))\n",
    "\n",
    "    def __reduce__(self):\n",
    "        return self.__class__, (OrderedDict(self),)"
   ]
  },
  {
   "cell_type": "code",
   "execution_count": 21,
   "metadata": {},
   "outputs": [],
   "source": [
    "views_str, purchases_str = re.findall(pattern = \"([\\d,]+;)([\\d,]*\\.?)\", string=\"19257,19258,19259,19260,19261,19262,19263,19264,4097,19265;\")[0]\n",
    "# views_str = result[0]\n",
    "# purchases_str =  None if len(result)<=1 else result[1]\n",
    "             \n",
    "             "
   ]
  },
  {
   "cell_type": "code",
   "execution_count": 22,
   "metadata": {},
   "outputs": [
    {
     "data": {
      "text/plain": [
       "''"
      ]
     },
     "execution_count": 22,
     "metadata": {},
     "output_type": "execute_result"
    }
   ],
   "source": [
    "purchases_str"
   ]
  },
  {
   "cell_type": "code",
   "execution_count": 23,
   "metadata": {},
   "outputs": [
    {
     "data": {
      "text/plain": [
       "['19257',\n",
       " '19258',\n",
       " '19259',\n",
       " '19260',\n",
       " '19261',\n",
       " '19262',\n",
       " '19263',\n",
       " '19264',\n",
       " '4097',\n",
       " '19265']"
      ]
     },
     "execution_count": 23,
     "metadata": {},
     "output_type": "execute_result"
    }
   ],
   "source": [
    "re.findall(pattern=\"(\\d+)\", string=views_str)"
   ]
  },
  {
   "cell_type": "code",
   "execution_count": 24,
   "metadata": {},
   "outputs": [
    {
     "data": {
      "text/plain": [
       "[19257, 19258, 19259, 19260, 19261, 19262, 19263, 19264, 4097, 19265]"
      ]
     },
     "execution_count": 24,
     "metadata": {},
     "output_type": "execute_result"
    }
   ],
   "source": [
    "list(map(int, re.findall(pattern=\"(\\d+)\", string=views_str)))"
   ]
  },
  {
   "cell_type": "code",
   "execution_count": 25,
   "metadata": {},
   "outputs": [
    {
     "data": {
      "text/plain": [
       "[]"
      ]
     },
     "execution_count": 25,
     "metadata": {},
     "output_type": "execute_result"
    }
   ],
   "source": [
    "purchases"
   ]
  },
  {
   "cell_type": "code",
   "execution_count": 26,
   "metadata": {},
   "outputs": [],
   "source": [
    "# train = []\n",
    "# with open(\"./coursera_sessions_train.txt\", newline='\\n') as f:\n",
    "#     for line_num, line in enumerate(f):\n",
    "#         views_str, purchases_str = re.findall(pattern = \"([\\d,]+;)([\\d,]*\\.?)\", string=line)[0]\n",
    "#         views = list(map(\n",
    "#             int, \n",
    "#             re.findall(pattern=\"(\\d+)\", string=views_str)\n",
    "#         ))\n",
    "#         purchases = list(map(\n",
    "#             int, \n",
    "#             re.findall(pattern=\"(\\d+)\", string=purchases_str)\n",
    "#         ))\n",
    "#         train.append(\n",
    "#             (\n",
    "#                 OrderedDict(OrderedCounter(views)), \n",
    "#                 OrderedDict(OrderedCounter(purchases))\n",
    "#             )\n",
    "#         )\n",
    "\n",
    "    "
   ]
  },
  {
   "cell_type": "code",
   "execution_count": 28,
   "metadata": {},
   "outputs": [],
   "source": [
    "# views_frq = defaultdict(int)\n",
    "# purchases_frq = defaultdict(int)\n",
    "# with open(\"./coursera_sessions_train.txt\", newline='\\n') as f:\n",
    "#     for line_num, line in enumerate(f):\n",
    "#         views_str, purchases_str = re.findall(pattern = \"([\\d,]+;)([\\d,]*\\.?)\", string=line)[0]\n",
    "#         views = list(map(\n",
    "#             int, \n",
    "#             re.findall(pattern=\"(\\d+)\", string=views_str)\n",
    "#         ))\n",
    "#         purchases = list(map(\n",
    "#             int, \n",
    "#             re.findall(pattern=\"(\\d+)\", string=purchases_str)\n",
    "#         ))\n",
    "#         for view in views:\n",
    "#             views_frq[view] += 1\n",
    "#         for purchase in purchases:\n",
    "#             purchases_frq[purchase] += 1"
   ]
  },
  {
   "cell_type": "code",
   "execution_count": 126,
   "metadata": {
    "scrolled": true
   },
   "outputs": [],
   "source": [
    "views_frq = Counter()\n",
    "purchases_frq = Counter()\n",
    "with open(\"./coursera_sessions_train.txt\", newline='\\n') as f:\n",
    "    for line_num, line in enumerate(f):\n",
    "        views_str, purchases_str = re.findall(pattern = \"([\\d,]+;)([\\d,]*\\.?)\", string=line)[0]\n",
    "        views = list(map(\n",
    "            int, \n",
    "            re.findall(pattern=\"(\\d+)\", string=views_str)\n",
    "        ))\n",
    "        purchases = list(map(\n",
    "            int, \n",
    "            re.findall(pattern=\"(\\d+)\", string=purchases_str)\n",
    "        ))\n",
    "        for view in views:\n",
    "            views_frq.update({view: 1})\n",
    "        for purchase in purchases:\n",
    "            purchases_frq.update({purchase: 1})"
   ]
  },
  {
   "cell_type": "code",
   "execution_count": null,
   "metadata": {},
   "outputs": [],
   "source": []
  },
  {
   "cell_type": "code",
   "execution_count": 142,
   "metadata": {},
   "outputs": [],
   "source": [
    "prec_1 = []\n",
    "rec_1 = []\n",
    "\n",
    "prec_5 = []\n",
    "rec_5 = []\n",
    "\n",
    "with open(\"./coursera_sessions_test.txt\", newline='\\n') as f:\n",
    "    for line_num, line in enumerate(f):\n",
    "        views_str, purchases_str = re.findall(pattern = \"([\\d,]+;)([\\d,]*\\.?)\", string=line)[0]\n",
    "        views = list(map(\n",
    "            int, \n",
    "            re.findall(pattern=\"(\\d+)\", string=views_str)\n",
    "        ))\n",
    "        purchases = list(map(\n",
    "            int, \n",
    "            re.findall(pattern=\"(\\d+)\", string=purchases_str)\n",
    "        ))\n",
    "        v_frq = Counter(views)\n",
    "        p_frq = Counter(purchases)\n",
    "        \n",
    "        pred = list(map(\n",
    "            lambda x: x[0],\n",
    "            sorted(\n",
    "                [\n",
    "                    (p, purchases_frq[p]) for p in v_frq.keys()\n",
    "                ],\n",
    "                reverse=True,\n",
    "                key=lambda x: x[1]\n",
    "            )\n",
    "        ))\n",
    "\n",
    "        relevant_1 = float(len(set(pred[:1]) & set(p_frq.keys())))\n",
    "        relevant_5 = float(len(set(pred[:5]) & set(p_frq.keys())))\n",
    "        n_buy = float(len(p_frq))\n",
    "        \n",
    "        if n_buy>0:\n",
    "            prec_1.append(relevant_1/1.)\n",
    "            prec_5.append(relevant_5/5.)\n",
    "\n",
    "\n",
    "            rec_1.append(relevant_1/n_buy)\n",
    "            rec_5.append(relevant_5/n_buy)\n",
    "        "
   ]
  },
  {
   "cell_type": "code",
   "execution_count": 143,
   "metadata": {},
   "outputs": [
    {
     "data": {
      "text/plain": [
       "0.4606201666660298"
      ]
     },
     "execution_count": 143,
     "metadata": {},
     "output_type": "execute_result"
    }
   ],
   "source": [
    "np.mean(rec_1)"
   ]
  },
  {
   "cell_type": "code",
   "execution_count": 144,
   "metadata": {
    "scrolled": true
   },
   "outputs": [
    {
     "data": {
      "text/plain": [
       "0.5276944065484311"
      ]
     },
     "execution_count": 144,
     "metadata": {},
     "output_type": "execute_result"
    }
   ],
   "source": [
    "np.mean(prec_1)"
   ]
  },
  {
   "cell_type": "code",
   "execution_count": 145,
   "metadata": {},
   "outputs": [
    {
     "data": {
      "text/plain": [
       "0.8201874337490196"
      ]
     },
     "execution_count": 145,
     "metadata": {},
     "output_type": "execute_result"
    }
   ],
   "source": [
    "np.mean(rec_5)"
   ]
  },
  {
   "cell_type": "code",
   "execution_count": 146,
   "metadata": {},
   "outputs": [
    {
     "data": {
      "text/plain": [
       "0.21009549795361532"
      ]
     },
     "execution_count": 146,
     "metadata": {},
     "output_type": "execute_result"
    }
   ],
   "source": [
    "np.mean(prec_5)"
   ]
  },
  {
   "cell_type": "code",
   "execution_count": null,
   "metadata": {},
   "outputs": [],
   "source": []
  },
  {
   "cell_type": "code",
   "execution_count": null,
   "metadata": {},
   "outputs": [],
   "source": []
  }
 ],
 "metadata": {
  "kernelspec": {
   "display_name": "Python 3",
   "language": "python",
   "name": "python3"
  },
  "language_info": {
   "codemirror_mode": {
    "name": "ipython",
    "version": 3
   },
   "file_extension": ".py",
   "mimetype": "text/x-python",
   "name": "python",
   "nbconvert_exporter": "python",
   "pygments_lexer": "ipython3",
   "version": "3.6.5"
  }
 },
 "nbformat": 4,
 "nbformat_minor": 2
}
